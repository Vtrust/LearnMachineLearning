{
 "metadata": {
  "language_info": {
   "codemirror_mode": {
    "name": "ipython",
    "version": 3
   },
   "file_extension": ".py",
   "mimetype": "text/x-python",
   "name": "python",
   "nbconvert_exporter": "python",
   "pygments_lexer": "ipython3",
   "version": "3.8.5-final"
  },
  "orig_nbformat": 2,
  "kernelspec": {
   "name": "Python 3.8.5 32-bit ('.venv')",
   "display_name": "Python 3.8.5 32-bit ('.venv')",
   "metadata": {
    "interpreter": {
     "hash": "b252055951846a3c461e7e6547d691798c9845b60cda7d1ad79bd7c4fa7af58f"
    }
   }
  }
 },
 "nbformat": 4,
 "nbformat_minor": 2,
 "cells": [
  {
   "cell_type": "code",
   "execution_count": 2,
   "metadata": {},
   "outputs": [],
   "source": [
    "from collections import Counter\n",
    "import os\n",
    "def make_Dictionary(train_dir):\n",
    "    emails = [os.path.join(train_dir, f) for f in os.listdir(train_dir)]\n",
    "    print(len(emails))\n",
    "    all_words = []\n",
    "    for mail in emails:\n",
    "        with open(mail) as m:\n",
    "            for i,line in enumerate(m):\n",
    "                if i == 2:\n",
    "                    words = line.split()\n",
    "                    all_words += words\n",
    "    \n",
    "    dictionary = Counter(all_words)\n",
    "    # Paste code for non-word removal here\n",
    "\n",
    "    list_to_remove = dictionary.keys()\n",
    "    for item in  list(list_to_remove):\n",
    "        if item.isalpha() == False:\n",
    "            del dictionary[item]\n",
    "        elif len(item) == 1:\n",
    "            del dictionary[item]\n",
    "\n",
    "    # get the most common word\n",
    "    dictionary = dictionary.most_common(3000)\n",
    "\n",
    "    return dictionary"
   ]
  },
  {
   "cell_type": "code",
   "execution_count": 3,
   "metadata": {
    "tags": []
   },
   "outputs": [
    {
     "output_type": "stream",
     "name": "stdout",
     "text": "702\n"
    }
   ],
   "source": [
    "dictionary = make_Dictionary('./ling-spam/train-mails')"
   ]
  },
  {
   "cell_type": "code",
   "execution_count": 4,
   "metadata": {},
   "outputs": [],
   "source": [
    "import numpy as np\n",
    "def extract_features(mail_dir):\n",
    "    files = [os.path.join(mail_dir, fi) for fi in os.listdir(mail_dir)]\n",
    "    features_matrix = np.zeros((len(files), 3000))\n",
    "    features_y =[]\n",
    "    docID = 0\n",
    "    for fil in files:\n",
    "        if 'spmsg' in fil:\n",
    "            features_y.append(1)\n",
    "        else:\n",
    "            features_y.append(0)\n",
    "\n",
    "        with open(fil) as fi:\n",
    "            for i, line in enumerate(fi):\n",
    "                if i == 2:\n",
    "                    words = line.split()\n",
    "                    for word in words:\n",
    "                        wordID = 0\n",
    "                        for i, d in enumerate(dictionary):\n",
    "                            if d[0] == word:\n",
    "                                wordID = i\n",
    "                                features_matrix[docID, wordID] = 1\n",
    "            docID += 1\n",
    "\n",
    "    return features_matrix, np.array(features_y)"
   ]
  },
  {
   "cell_type": "code",
   "execution_count": 4,
   "metadata": {},
   "outputs": [],
   "source": [
    "# get train features and class\n",
    "x_train, y_train = extract_features('./ling-spam/train-mails')"
   ]
  },
  {
   "cell_type": "code",
   "execution_count": 5,
   "metadata": {
    "tags": []
   },
   "outputs": [],
   "source": [
    "train_num = len(y_train)\n",
    "features_num = len(x_train[0])\n",
    "p_spmsg = sum(y_train)/len(y_train)\n",
    "p_msg = 1 - p_spmsg\n",
    "\n",
    "p_w_spmsg = np.ones(features_num)\n",
    "p_w_msg = np.ones(features_num)\n",
    "\n",
    "p_w_spmsg_sum = 0\n",
    "p_w_msg_sum = 0\n",
    "\n",
    "for i in range(train_num):\n",
    "    if(y_train[i] == 1):\n",
    "        p_w_spmsg += x_train[i]\n",
    "        p_w_spmsg_sum += sum(x_train[i])\n",
    "    else:\n",
    "        p_w_msg += x_train[i]\n",
    "        p_w_msg_sum += sum(x_train[i])\n",
    "\n",
    "# calculate p(w|c)\n",
    "# zero conditional probability\n",
    "# use log change add to multiply\n",
    "# p_w_spmsg = np.log(p_w_spmsg+1*1/2)/(p_w_spmsg_sum+1)\n",
    "# p_w_msg = np.log(p_w_msg+1*1/2)/(p_w_msg_sum+1)\n",
    "p_w_spmsg = np.log(p_w_spmsg/p_w_spmsg_sum)\n",
    "p_w_msg = np.log(p_w_msg/p_w_msg_sum)"
   ]
  },
  {
   "cell_type": "code",
   "execution_count": 6,
   "metadata": {},
   "outputs": [],
   "source": [
    "# get test features and class\n",
    "x_test, y_test = extract_features('./ling-spam/test-mails')"
   ]
  },
  {
   "cell_type": "code",
   "execution_count": 1,
   "metadata": {
    "tags": []
   },
   "outputs": [
    {
     "output_type": "error",
     "ename": "NameError",
     "evalue": "name 'x_test' is not defined",
     "traceback": [
      "\u001b[1;31m---------------------------------------------------------------------------\u001b[0m",
      "\u001b[1;31mNameError\u001b[0m                                 Traceback (most recent call last)",
      "\u001b[1;32m<ipython-input-1-288dd05ed683>\u001b[0m in \u001b[0;36m<module>\u001b[1;34m\u001b[0m\n\u001b[0;32m      1\u001b[0m \u001b[1;31m# calculate accuracy, precision, recall, fscore\u001b[0m\u001b[1;33m\u001b[0m\u001b[1;33m\u001b[0m\u001b[1;33m\u001b[0m\u001b[0m\n\u001b[1;32m----> 2\u001b[1;33m \u001b[0mp_spmsg_w\u001b[0m \u001b[1;33m=\u001b[0m \u001b[0mx_test\u001b[0m \u001b[1;33m@\u001b[0m \u001b[0mp_w_spmsg\u001b[0m \u001b[1;33m+\u001b[0m \u001b[0mnp\u001b[0m\u001b[1;33m.\u001b[0m\u001b[0mlog\u001b[0m\u001b[1;33m(\u001b[0m\u001b[0mp_spmsg\u001b[0m\u001b[1;33m)\u001b[0m\u001b[1;33m\u001b[0m\u001b[1;33m\u001b[0m\u001b[0m\n\u001b[0m\u001b[0;32m      3\u001b[0m \u001b[0mp_msg_w\u001b[0m \u001b[1;33m=\u001b[0m \u001b[0mx_test\u001b[0m \u001b[1;33m@\u001b[0m \u001b[0mp_w_msg\u001b[0m \u001b[1;33m+\u001b[0m \u001b[0mnp\u001b[0m\u001b[1;33m.\u001b[0m\u001b[0mlog\u001b[0m\u001b[1;33m(\u001b[0m\u001b[0mp_msg\u001b[0m\u001b[1;33m)\u001b[0m\u001b[1;33m\u001b[0m\u001b[1;33m\u001b[0m\u001b[0m\n\u001b[0;32m      4\u001b[0m \u001b[0my_predict\u001b[0m \u001b[1;33m=\u001b[0m \u001b[1;33m(\u001b[0m\u001b[0mp_spmsg_w\u001b[0m \u001b[1;33m>\u001b[0m \u001b[0mp_msg_w\u001b[0m\u001b[1;33m)\u001b[0m\u001b[1;33m+\u001b[0m\u001b[1;36m0\u001b[0m\u001b[1;33m\u001b[0m\u001b[1;33m\u001b[0m\u001b[0m\n\u001b[0;32m      5\u001b[0m \u001b[1;33m\u001b[0m\u001b[0m\n",
      "\u001b[1;31mNameError\u001b[0m: name 'x_test' is not defined"
     ]
    }
   ],
   "source": [
    "# calculate accuracy, precision, recall, fscore\n",
    "p_spmsg_w = x_test @ p_w_spmsg + np.log(p_spmsg)\n",
    "p_msg_w = x_test @ p_w_msg + np.log(p_msg)\n",
    "y_predict = (p_spmsg_w > p_msg_w)+0\n",
    "\n",
    "accuracy = sum(y_predict == y_test)/len(y_test)\n",
    "\n",
    "TP = sum(y_predict & y_test)\n",
    "FN = sum(y_predict ^ np.ones(len(y_predict)))\n",
    "precision = TP/sum(y_predict)\n",
    "recall = TP/(TP+FN)\n",
    "fscore = (1 + 0.5**2) * (precision * recall) / ((0.5**2 * precision) + recall)\n",
    "print('accuracy:{:.4f} precision:{:.4f} recall:{:.4f} fscore:{:.4f}'.format(accuracy, precision, recall, fscore))"
   ]
  },
  {
   "cell_type": "code",
   "execution_count": null,
   "metadata": {},
   "outputs": [],
   "source": []
  }
 ]
}